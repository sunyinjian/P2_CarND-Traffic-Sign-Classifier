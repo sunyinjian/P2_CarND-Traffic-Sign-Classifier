{
 "cells": [
  {
   "cell_type": "markdown",
   "metadata": {},
   "source": [
    "# Self-Driving Car Engineer Nanodegree\n",
    "\n",
    "## Deep Learning\n",
    "\n",
    "## Project: Build a Traffic Sign Recognition Classifier\n",
    "\n",
    "In this notebook, a template is provided for you to implement your functionality in stages, which is required to successfully complete this project. If additional code is required that cannot be included in the notebook, be sure that the Python code is successfully imported and included in your submission if necessary. \n",
    "\n",
    "> **Note**: Once you have completed all of the code implementations, you need to finalize your work by exporting the iPython Notebook as an HTML document. Before exporting the notebook to html, all of the code cells need to have been run so that reviewers can see the final implementation and output. You can then export the notebook by using the menu above and navigating to  \\n\",\n",
    "    \"**File -> Download as -> HTML (.html)**. Include the finished document along with this notebook as your submission. \n",
    "\n",
    "In addition to implementing code, there is a writeup to complete. The writeup should be completed in a separate file, which can be either a markdown file or a pdf document. There is a [write up template](https://github.com/udacity/CarND-Traffic-Sign-Classifier-Project/blob/master/writeup_template.md) that can be used to guide the writing process. Completing the code template and writeup template will cover all of the [rubric points](https://review.udacity.com/#!/rubrics/481/view) for this project.\n",
    "\n",
    "The [rubric](https://review.udacity.com/#!/rubrics/481/view) contains \"Stand Out Suggestions\" for enhancing the project beyond the minimum requirements. The stand out suggestions are optional. If you decide to pursue the \"stand out suggestions\", you can include the code in this Ipython notebook and also discuss the results in the writeup file.\n",
    "\n",
    "\n",
    ">**Note:** Code and Markdown cells can be executed using the **Shift + Enter** keyboard shortcut. In addition, Markdown cells can be edited by typically double-clicking the cell to enter edit mode."
   ]
  },
  {
   "cell_type": "markdown",
   "metadata": {},
   "source": [
    "---\n",
    "## Step 0: Load The Data"
   ]
  },
  {
   "cell_type": "code",
   "execution_count": 1,
   "metadata": {
    "collapsed": true
   },
   "outputs": [],
   "source": [
    "# Import packages\n",
    "import pickle  # Load pickled data\n",
    "import numpy as np\n",
    "import matplotlib.pyplot as plt\n",
    "import random\n",
    "import matplotlib.image as mpimg\n",
    "import matplotlib.gridspec as gridspec\n",
    "from datetime import datetime\n",
    "from sklearn.utils import shuffle"
   ]
  },
  {
   "cell_type": "code",
   "execution_count": 2,
   "metadata": {},
   "outputs": [
    {
     "name": "stdout",
     "output_type": "stream",
     "text": [
      "X_train shape: (34799, 32, 32, 3)\n",
      "y_train shape: (34799,)\n",
      "X_valid shape: (4410, 32, 32, 3)\n",
      "y_valid shape: (4410,)\n"
     ]
    }
   ],
   "source": [
    "# TODO: Fill this in based on where you saved the training and testing data\n",
    "\n",
    "training_file = './traffic-signs-data/train.p'\n",
    "validation_file='./traffic-signs-data/valid.p'\n",
    "testing_file = './traffic-signs-data/test.p'\n",
    "\n",
    "with open(training_file, mode='rb') as f:\n",
    "    train = pickle.load(f)\n",
    "with open(validation_file, mode='rb') as f:\n",
    "    valid = pickle.load(f)\n",
    "with open(testing_file, mode='rb') as f:\n",
    "    test = pickle.load(f)\n",
    "    \n",
    "X_train, y_train = train['features'], train['labels']\n",
    "X_valid, y_valid = valid['features'], valid['labels']\n",
    "X_test, y_test = test['features'], test['labels']\n",
    "\n",
    "# from sklearn.utils import shuffle\n",
    "# X_train, y_train = shuffle(X_train, y_train)\n",
    "\n",
    "# from sklearn.model_selection import train_test_split\n",
    "# X_train, X_valid, y_train, y_valid = train_test_split(train['features'], train['labels'], test_size=0.1, random_state=42)\n",
    "\n",
    "print(\"X_train shape:\", X_train.shape)\n",
    "print(\"y_train shape:\", y_train.shape)\n",
    "print(\"X_valid shape:\", X_valid.shape)\n",
    "print(\"y_valid shape:\", y_valid.shape)\n",
    "\n"
   ]
  },
  {
   "cell_type": "markdown",
   "metadata": {},
   "source": [
    "---\n",
    "\n",
    "## Step 1: Dataset Summary & Exploration\n",
    "\n",
    "The pickled data is a dictionary with 4 key/value pairs:\n",
    "\n",
    "- `'features'` is a 4D array containing raw pixel data of the traffic sign images, (num examples, width, height, channels).\n",
    "- `'labels'` is a 1D array containing the label/class id of the traffic sign. The file `signnames.csv` contains id -> name mappings for each id.\n",
    "- `'sizes'` is a list containing tuples, (width, height) representing the original width and height the image.\n",
    "- `'coords'` is a list containing tuples, (x1, y1, x2, y2) representing coordinates of a bounding box around the sign in the image. **THESE COORDINATES ASSUME THE ORIGINAL IMAGE. THE PICKLED DATA CONTAINS RESIZED VERSIONS (32 by 32) OF THESE IMAGES**\n",
    "\n",
    "Complete the basic data summary below. Use python, numpy and/or pandas methods to calculate the data summary rather than hard coding the results. For example, the [pandas shape method](http://pandas.pydata.org/pandas-docs/stable/generated/pandas.DataFrame.shape.html) might be useful for calculating some of the summary results. "
   ]
  },
  {
   "cell_type": "markdown",
   "metadata": {},
   "source": [
    "### Provide a Basic Summary of the Data Set Using Python, Numpy and/or Pandas"
   ]
  },
  {
   "cell_type": "code",
   "execution_count": 3,
   "metadata": {},
   "outputs": [
    {
     "name": "stdout",
     "output_type": "stream",
     "text": [
      "Number of training examples = 34799\n",
      "Number of testing examples = 12630\n",
      "Image data shape = (32, 32, 3)\n",
      "Number of classes = 43\n"
     ]
    }
   ],
   "source": [
    "### Replace each question mark with the appropriate value. \n",
    "### Use python, pandas or numpy methods rather than hard coding the results\n",
    "\n",
    "# TODO: Number of training examples\n",
    "n_train = len(X_train)\n",
    "\n",
    "# TODO: Number of validation examples\n",
    "n_validation = len(X_valid)\n",
    "\n",
    "# TODO: Number of testing examples.\n",
    "n_test = len(X_test)\n",
    "\n",
    "# TODO: What's the shape of an traffic sign image?\n",
    "image_shape = X_train[0].shape\n",
    "\n",
    "# TODO: How many unique classes/labels there are in the dataset.\n",
    "n_classes = len(np.unique(y_train))\n",
    "\n",
    "print(\"Number of training examples =\", n_train)\n",
    "print(\"Number of testing examples =\", n_test)\n",
    "print(\"Image data shape =\", image_shape)\n",
    "print(\"Number of classes =\", n_classes)"
   ]
  },
  {
   "cell_type": "markdown",
   "metadata": {},
   "source": [
    "### Include an exploratory visualization of the dataset"
   ]
  },
  {
   "cell_type": "markdown",
   "metadata": {},
   "source": [
    "Visualize the German Traffic Signs Dataset using the pickled file(s). This is open ended, suggestions include: plotting traffic sign images, plotting the count of each sign, etc. \n",
    "\n",
    "The [Matplotlib](http://matplotlib.org/) [examples](http://matplotlib.org/examples/index.html) and [gallery](http://matplotlib.org/gallery.html) pages are a great resource for doing visualizations in Python.\n",
    "\n",
    "**NOTE:** It's recommended you start with something simple first. If you wish to do more, come back to it after you've completed the rest of the sections. It can be interesting to look at the distribution of classes in the training, validation and test set. Is the distribution the same? Are there more examples of some classes than others?"
   ]
  },
  {
   "cell_type": "code",
   "execution_count": 4,
   "metadata": {},
   "outputs": [
    {
     "data": {
      "image/png": "[encoded data removed]",
      "text/plain": [
       "<matplotlib.figure.Figure at 0x7febc0a58c50>"
      ]
     },
     "metadata": {},
     "output_type": "display_data"
    },
    {
     "data": {
      "image/png": "[encoded data removed]",
      "text/plain": [
       "<matplotlib.figure.Figure at 0x7feb92d6ae80>"
      ]
     },
     "metadata": {},
     "output_type": "display_data"
    }
   ],
   "source": [
    "### Data exploration visualization code goes here.\n",
    "### Feel free to use as many code cells as needed.\n",
    "# Visualizations will be shown in the notebook.\n",
    "%matplotlib inline\n",
    "\n",
    "#show image of random data points\n",
    "index = random.randint(0, len(X_train))\n",
    "image = X_train[index]\n",
    "plt.figure(figsize=(3,3))\n",
    "plt.axis('off')\n",
    "plt.title(y_train[index])\n",
    "plt.imshow(image)\n",
    "plt.show()\n",
    "\n",
    "#show histogram of label frequency\n",
    "plt.figure()\n",
    "plt.hist(y_train, n_classes)\n",
    "plt.title('historgram of traffic signs')\n",
    "plt.xlabel('label index')\n",
    "plt.ylabel('numbers of traffic signs')\n",
    "plt.show()\n"
   ]
  },
  {
   "cell_type": "markdown",
   "metadata": {},
   "source": [
    "----\n",
    "\n",
    "## Step 2: Design and Test a Model Architecture\n",
    "\n",
    "Design and implement a deep learning model that learns to recognize traffic signs. Train and test your model on the [German Traffic Sign Dataset](http://benchmark.ini.rub.de/?section=gtsrb&subsection=dataset).\n",
    "\n",
    "The LeNet-5 implementation shown in the [classroom](https://classroom.udacity.com/nanodegrees/nd013/parts/fbf77062-5703-404e-b60c-95b78b2f3f9e/modules/6df7ae49-c61c-4bb2-a23e-6527e69209ec/lessons/601ae704-1035-4287-8b11-e2c2716217ad/concepts/d4aca031-508f-4e0b-b493-e7b706120f81) at the end of the CNN lesson is a solid starting point. You'll have to change the number of classes and possibly the preprocessing, but aside from that it's plug and play! \n",
    "\n",
    "With the LeNet-5 solution from the lecture, you should expect a validation set accuracy of about 0.89. To meet specifications, the validation set accuracy will need to be at least 0.93. It is possible to get an even higher accuracy, but 0.93 is the minimum for a successful project submission. \n",
    "\n",
    "There are various aspects to consider when thinking about this problem:\n",
    "\n",
    "- Neural network architecture (is the network over or underfitting?)\n",
    "- Play around preprocessing techniques (normalization, rgb to grayscale, etc)\n",
    "- Number of examples per label (some have more than others).\n",
    "- Generate fake data.\n",
    "\n",
    "Here is an example of a [published baseline model on this problem](http://yann.lecun.com/exdb/publis/pdf/sermanet-ijcnn-11.pdf). It's not required to be familiar with the approach used in the paper but, it's good practice to try to read papers like these."
   ]
  },
  {
   "cell_type": "markdown",
   "metadata": {},
   "source": [
    "### Pre-process the Data Set (normalization, grayscale, etc.)"
   ]
  },
  {
   "cell_type": "markdown",
   "metadata": {},
   "source": [
    "Minimally, the image data should be normalized so that the data has mean zero and equal variance. For image data, `(pixel - 128)/ 128` is a quick way to approximately normalize the data and can be used in this project. \n",
    "\n",
    "Other pre-processing steps are optional. You can try different techniques to see if it improves performance. \n",
    "\n",
    "Use the code cell (or multiple code cells, if necessary) to implement the first step of your project."
   ]
  },
  {
   "cell_type": "code",
   "execution_count": 5,
   "metadata": {},
   "outputs": [
    {
     "name": "stdout",
     "output_type": "stream",
     "text": [
      "82.677589037\n",
      "82.1484603612\n",
      "-0.354081335648\n",
      "-0.358215153428\n"
     ]
    }
   ],
   "source": [
    "### Preprocess the data here. It is required to normalize the data. Other preprocessing steps could include \n",
    "### converting to grayscale, etc.\n",
    "### Feel free to use as many code cells as needed.\n",
    "# Convert to grayscale\n",
    "X_train_gray = np.sum(X_train/3, axis=3, keepdims=True)\n",
    "X_test_gray = np.sum(X_test/3, axis=3, keepdims=True)\n",
    "X_valid_gray = np.sum(X_valid/3, axis=3, keepdims=True)\n",
    "\n",
    "print(np.mean(X_train_gray))\n",
    "print(np.mean(X_test_gray))\n",
    "\n",
    "# Normalize to (-1,1)\n",
    "X_train_norm = (X_train_gray - 128)/128 \n",
    "X_test_norm = (X_test_gray - 128)/128\n",
    "X_valid_norm = (X_valid_gray - 128)/128\n",
    "\n",
    "X_train = X_train_norm\n",
    "X_test = X_test_norm\n",
    "X_valid = X_valid_norm\n",
    "\n",
    "print(np.mean(X_train_norm))\n",
    "print(np.mean(X_test_norm))\n",
    "\n",
    "# index = random.randint(0, len(X_train))\n",
    "# image1 = X_train[index].squeeze()\n",
    "# plt.figure(figsize=(3,3))\n",
    "# plt.axis('off')\n",
    "\n",
    "\n",
    "# plt.imshow(image1,cmap='gray')\n",
    "# plt.show()\n"
   ]
  },
  {
   "cell_type": "markdown",
   "metadata": {},
   "source": [
    "### Model Architecture\n",
    "\n",
    "1. Layer1: Convolution (32x32x1 in, 30x30x32 out), Filter size: 3x3x1, Filter number: 32, strides: 1, valid padding \n",
    "2. ReLU\n",
    "3. Dropout\n",
    "4. Layer2: Convolution (30x30x32 in, 28x28x32 out), Filter size: 3x3x32, Filter number: 32, strides: 1, valid padding \n",
    "5. ReLU\n",
    "6. Max pool (28x28x32 in, 14x14x32 out), ksize:2x2, strides: 2, valid padding\n",
    "7. Dropout\n",
    "8. Layer3: Convolution (14x14x32 in, 12x12x64 out), Filter size: 3x3x32, Filter number: 64, strides: 1, valid padding \n",
    "9. ReLU\n",
    "10. Max pool (12x12x64 in, 6x6x64 out), ksize:2x2, strides: 2, valid padding\n",
    "11. Dropout\n",
    "12. Layer4: Convolution (6x6x64 in, 4x4x128 out), Filter size: 3x3x64, Filter number: 128, strides: 1, valid padding \n",
    "13. ReLU\n",
    "14. Dropout\n",
    "15. Flatten: flat layer2 14x14x32 to 6272, flat layer3 6x6x64 to 2304, flat layer4 4x4x128 to 2048\n",
    "15. Concat: Concat layer2flat and layer3flat and layer4flat, Input = 6272 + 2304 + 2048. Output = 10624\n",
    "16. Layer1_fc: Fully Connected. Input = 10624. Output = 1024.\n",
    "17. ReLU\n",
    "18. Dropout\n",
    "19. Layer2_fc: Fully Connected. Input = 1024. Output = 1024.\n",
    "20. ReLU\n",
    "21. Dropout\n",
    "22. Layer3_fc: Fully Connected. Input = 1024. Output = 43."
   ]
  },
  {
   "cell_type": "code",
   "execution_count": 6,
   "metadata": {
    "collapsed": true
   },
   "outputs": [],
   "source": [
    "import tensorflow as tf\n",
    "from tensorflow.contrib.layers import flatten\n",
    "\n",
    "tf.reset_default_graph() # Remove the previous weights and bias\n",
    "\n",
    "EPOCH = 60\n",
    "BATCH_SIZE = 128"
   ]
  },
  {
   "cell_type": "code",
   "execution_count": 7,
   "metadata": {
    "collapsed": true
   },
   "outputs": [],
   "source": [
    "### Define your architecture here.\n",
    "### Feel free to use as many code cells as needed.\n",
    "def LeNet(x):\n",
    "    \n",
    "    global conv1\n",
    "    global conv2\n",
    "    mu = 0\n",
    "    sigma = 0.1\n",
    "    \n",
    "    # Layer 1: Convolutional. Input = 32x32x1. Output = 30x30x32.\n",
    "    conv_W = tf.Variable(tf.truncated_normal(shape=(3, 3, 1, 32), mean = mu, stddev = sigma), name=\"W1\")\n",
    "    conv_b = tf.Variable(tf.zeros(32), name=\"b1\")\n",
    "    conv   = tf.nn.conv2d(x, conv_W, strides=[1, 1, 1, 1], padding='VALID') + conv_b\n",
    "    conv = tf.nn.relu(conv)\n",
    "    conv1 = conv\n",
    "    conv = tf.nn.dropout(conv, keep_prob)\n",
    "    layer1 = conv\n",
    "       \n",
    "    # Layer 2: Convolutional. Input = 30x30x32, Output = 28x28x32.\n",
    "    conv_W = tf.Variable(tf.truncated_normal(shape=(3, 3, 32, 32), mean = mu, stddev = sigma), name=\"W2\")\n",
    "    conv_b = tf.Variable(tf.zeros(32), name=\"b2\")\n",
    "    conv   = tf.nn.conv2d(layer1, conv_W, strides=[1, 1, 1, 1], padding='VALID') + conv_b    \n",
    "    conv = tf.nn.relu(conv)\n",
    "    conv2 = conv\n",
    "    # Pooling. Input = 28x28x32. Output = 14x14x32.\n",
    "    conv = tf.nn.max_pool(conv, ksize=[1, 2, 2, 1], strides=[1, 2, 2, 1], padding='VALID')\n",
    "    conv = tf.nn.dropout(conv, keep_prob)\n",
    "    layer2 = conv \n",
    "    \n",
    "    # Layer 3: Convolutional. Input = 14x14x32, Output = 12x12x64.\n",
    "    conv_W = tf.Variable(tf.truncated_normal(shape=(3, 3, 32, 64), mean = mu, stddev = sigma), name=\"W3\")\n",
    "    conv_b = tf.Variable(tf.zeros(64), name=\"b3\")\n",
    "    conv   = tf.nn.conv2d(layer2, conv_W, strides=[1, 1, 1, 1], padding='VALID') + conv_b    \n",
    "    conv = tf.nn.relu(conv)\n",
    "    # Pooling. Input = 12x12x64. Output = 6x6x64.\n",
    "    conv = tf.nn.max_pool(conv, ksize=[1, 2, 2, 1], strides=[1, 2, 2, 1], padding='VALID')\n",
    "    conv = tf.nn.dropout(conv, keep_prob)\n",
    "    layer3 = conv \n",
    "    \n",
    "    # Layer 4: Convolutional. Input = 6x6x64, Output = 4x4x128.\n",
    "    conv_W = tf.Variable(tf.truncated_normal(shape=(3, 3, 64, 128), mean = mu, stddev = sigma), name=\"W4\")\n",
    "    conv_b = tf.Variable(tf.zeros(128), name=\"b4\")\n",
    "    conv   = tf.nn.conv2d(layer3, conv_W, strides=[1, 1, 1, 1], padding='VALID') + conv_b    \n",
    "    conv = tf.nn.relu(conv)\n",
    "    conv = tf.nn.dropout(conv, keep_prob)\n",
    "    layer4 = conv \n",
    "           \n",
    "    # Layer_flat: Concat layer2flat and layer3flat and layer4flat, Input = 6272 + 2304 + 2048. Output = 10624\n",
    "    layer2flat = flatten(layer2)\n",
    "    layer3flat = flatten(layer3)\n",
    "    layer4flat = flatten(layer4)\n",
    "    layer_flat = tf.concat_v2([layer4flat, layer3flat, layer2flat], 1)\n",
    "\n",
    "    # Layer1_fc: Fully Connected, DropOut. Input = 10624. Output = 1024.\n",
    "    conv_W = tf.Variable(tf.truncated_normal(shape=(10624, 1024), mean = mu, stddev = sigma), name=\"W5\")\n",
    "    conv_b = tf.Variable(tf.zeros(1024), name=\"b5\")\n",
    "    conv   = tf.matmul(layer_flat, conv_W) + conv_b\n",
    "    conv = tf.nn.relu(conv)\n",
    "    conv = tf.nn.dropout(conv, keep_prob)\n",
    "    layer1_fc = conv\n",
    "    \n",
    "    # Layer2_fc: Fully Connected, DropOut. Input = 1024. Output = 1024.\n",
    "    conv_W = tf.Variable(tf.truncated_normal(shape=(1024, 1024), mean = mu, stddev = sigma), name=\"W6\")\n",
    "    conv_b = tf.Variable(tf.zeros(1024), name=\"b6\")\n",
    "    conv = tf.matmul(layer1_fc, conv_W) + conv_b\n",
    "    conv = tf.nn.relu(conv)\n",
    "    conv = tf.nn.dropout(conv, keep_prob)\n",
    "    layer2_fc = conv\n",
    "    \n",
    "    # Layer3_fc: Fully Connected. Input = 1024. Output = 43.\n",
    "    conv_W = tf.Variable(tf.truncated_normal(shape=(1024, 43), mean = mu, stddev = sigma), name=\"W7\")\n",
    "    conv_b = tf.Variable(tf.zeros(43), name=\"b7\")\n",
    "    conv = tf.matmul(layer2_fc, conv_W) + conv_b\n",
    "    layer3_fc = conv\n",
    "    \n",
    "    logits = layer3_fc\n",
    "\n",
    "\n",
    "    return logits"
   ]
  },
  {
   "cell_type": "markdown",
   "metadata": {},
   "source": [
    "### Train, Validate and Test the Model"
   ]
  },
  {
   "cell_type": "markdown",
   "metadata": {},
   "source": [
    "A validation set can be used to assess how well the model is performing. A low accuracy on the training and validation\n",
    "sets imply underfitting. A high accuracy on the training set but low accuracy on the validation set implies overfitting."
   ]
  },
  {
   "cell_type": "code",
   "execution_count": 8,
   "metadata": {
    "collapsed": true
   },
   "outputs": [],
   "source": [
    "# Features and Labels\n",
    "x = tf.placeholder(tf.float32, shape = (None, 32, 32, 1))\n",
    "y = tf.placeholder(tf.int32, shape = (None))\n",
    "one_hot_y = tf.one_hot(y,43)\n",
    "keep_prob = tf.placeholder(tf.float32)"
   ]
  },
  {
   "cell_type": "code",
   "execution_count": 9,
   "metadata": {},
   "outputs": [],
   "source": [
    "# Training Pipeline\n",
    "rate = 0.001\n",
    "\n",
    "logits = LeNet(x)\n",
    "cross_entropy = tf.nn.softmax_cross_entropy_with_logits(logits, one_hot_y)\n",
    "#cross_entropy = tf.nn.softmax_cross_entropy_with_logits(logits=logits,labels=one_hot_y)\n",
    "loss_operation = tf.reduce_mean(cross_entropy)\n",
    "optimizer = tf.train.AdamOptimizer(rate)\n",
    "training_operation = optimizer.minimize(loss_operation)"
   ]
  },
  {
   "cell_type": "code",
   "execution_count": 10,
   "metadata": {
    "collapsed": true
   },
   "outputs": [],
   "source": [
    "# Model Evaluation\n",
    "correct_prediction = tf.equal(tf.argmax(logits, 1), tf.argmax(one_hot_y, 1))\n",
    "accuracy_operation = tf.reduce_mean(tf.cast(correct_prediction, tf.float32))\n",
    "saver = tf.train.Saver()\n",
    "\n",
    "def evaluate(X_data, y_data):\n",
    "    num_examples = len(X_data)\n",
    "    total_accuracy = 0\n",
    "    sess = tf.get_default_session()\n",
    "    for offset in range(0, num_examples, BATCH_SIZE):\n",
    "        batch_x, batch_y = X_data[offset:offset+BATCH_SIZE], y_data[offset:offset+BATCH_SIZE]\n",
    "        accuracy = sess.run(accuracy_operation, feed_dict={x: batch_x, y: batch_y, keep_prob: 1.0})\n",
    "        total_accuracy += (accuracy * len(batch_x))\n",
    "    return total_accuracy / num_examples"
   ]
  },
  {
   "cell_type": "code",
   "execution_count": 11,
   "metadata": {},
   "outputs": [
    {
     "name": "stdout",
     "output_type": "stream",
     "text": [
      "Training...\n",
      "\n",
      "EPOCH 1 ...\n",
      "Training Accuracy = 0.130\n",
      "Validation Accuracy = 0.102\n",
      "Time Consumed = 12.7 secs\n",
      "\n",
      "EPOCH 2 ...\n",
      "Training Accuracy = 0.556\n",
      "Validation Accuracy = 0.480\n",
      "Time Consumed = 12.0 secs\n",
      "\n",
      "EPOCH 3 ...\n",
      "Training Accuracy = 0.832\n",
      "Validation Accuracy = 0.757\n",
      "Time Consumed = 12.0 secs\n",
      "\n",
      "EPOCH 4 ...\n",
      "Training Accuracy = 0.914\n",
      "Validation Accuracy = 0.859\n",
      "Time Consumed = 12.0 secs\n",
      "\n",
      "EPOCH 5 ...\n",
      "Training Accuracy = 0.948\n",
      "Validation Accuracy = 0.903\n",
      "Time Consumed = 12.0 secs\n",
      "\n",
      "EPOCH 6 ...\n",
      "Training Accuracy = 0.960\n",
      "Validation Accuracy = 0.911\n",
      "Time Consumed = 12.0 secs\n",
      "\n",
      "EPOCH 7 ...\n",
      "Training Accuracy = 0.980\n",
      "Validation Accuracy = 0.937\n",
      "Time Consumed = 12.0 secs\n",
      "\n",
      "EPOCH 8 ...\n",
      "Training Accuracy = 0.980\n",
      "Validation Accuracy = 0.939\n",
      "Time Consumed = 12.0 secs\n",
      "\n",
      "EPOCH 9 ...\n",
      "Training Accuracy = 0.987\n",
      "Validation Accuracy = 0.951\n",
      "Time Consumed = 12.0 secs\n",
      "\n",
      "EPOCH 10 ...\n",
      "Training Accuracy = 0.991\n",
      "Validation Accuracy = 0.954\n",
      "Time Consumed = 12.0 secs\n",
      "\n",
      "EPOCH 11 ...\n",
      "Training Accuracy = 0.993\n",
      "Validation Accuracy = 0.959\n",
      "Time Consumed = 12.0 secs\n",
      "\n",
      "EPOCH 12 ...\n",
      "Training Accuracy = 0.994\n",
      "Validation Accuracy = 0.952\n",
      "Time Consumed = 12.0 secs\n",
      "\n",
      "EPOCH 13 ...\n",
      "Training Accuracy = 0.994\n",
      "Validation Accuracy = 0.964\n",
      "Time Consumed = 12.0 secs\n",
      "\n",
      "EPOCH 14 ...\n",
      "Training Accuracy = 0.993\n",
      "Validation Accuracy = 0.951\n",
      "Time Consumed = 12.0 secs\n",
      "\n",
      "EPOCH 15 ...\n",
      "Training Accuracy = 0.993\n",
      "Validation Accuracy = 0.957\n",
      "Time Consumed = 12.0 secs\n",
      "\n",
      "EPOCH 16 ...\n",
      "Training Accuracy = 0.997\n",
      "Validation Accuracy = 0.966\n",
      "Time Consumed = 12.0 secs\n",
      "\n",
      "EPOCH 17 ...\n",
      "Training Accuracy = 0.998\n",
      "Validation Accuracy = 0.968\n",
      "Time Consumed = 12.0 secs\n",
      "\n",
      "EPOCH 18 ...\n",
      "Training Accuracy = 0.998\n",
      "Validation Accuracy = 0.967\n",
      "Time Consumed = 12.0 secs\n",
      "\n",
      "EPOCH 19 ...\n",
      "Training Accuracy = 0.998\n",
      "Validation Accuracy = 0.967\n",
      "Time Consumed = 12.0 secs\n",
      "\n",
      "EPOCH 20 ...\n",
      "Training Accuracy = 0.997\n",
      "Validation Accuracy = 0.956\n",
      "Time Consumed = 12.0 secs\n",
      "\n",
      "EPOCH 21 ...\n",
      "Training Accuracy = 0.999\n",
      "Validation Accuracy = 0.967\n",
      "Time Consumed = 12.0 secs\n",
      "\n",
      "EPOCH 22 ...\n",
      "Training Accuracy = 0.998\n",
      "Validation Accuracy = 0.956\n",
      "Time Consumed = 12.0 secs\n",
      "\n",
      "EPOCH 23 ...\n",
      "Training Accuracy = 0.998\n",
      "Validation Accuracy = 0.956\n",
      "Time Consumed = 12.0 secs\n",
      "\n",
      "EPOCH 24 ...\n",
      "Training Accuracy = 1.000\n",
      "Validation Accuracy = 0.973\n",
      "Time Consumed = 12.0 secs\n",
      "\n",
      "EPOCH 25 ...\n",
      "Training Accuracy = 0.998\n",
      "Validation Accuracy = 0.950\n",
      "Time Consumed = 12.0 secs\n",
      "\n",
      "EPOCH 26 ...\n",
      "Training Accuracy = 0.999\n",
      "Validation Accuracy = 0.961\n",
      "Time Consumed = 12.0 secs\n",
      "\n",
      "EPOCH 27 ...\n",
      "Training Accuracy = 0.999\n",
      "Validation Accuracy = 0.976\n",
      "Time Consumed = 12.0 secs\n",
      "\n",
      "EPOCH 28 ...\n",
      "Training Accuracy = 0.999\n",
      "Validation Accuracy = 0.971\n",
      "Time Consumed = 12.0 secs\n",
      "\n",
      "EPOCH 29 ...\n",
      "Training Accuracy = 0.999\n",
      "Validation Accuracy = 0.966\n",
      "Time Consumed = 12.0 secs\n",
      "\n",
      "EPOCH 30 ...\n",
      "Training Accuracy = 1.000\n",
      "Validation Accuracy = 0.970\n",
      "Time Consumed = 12.0 secs\n",
      "\n",
      "EPOCH 31 ...\n",
      "Training Accuracy = 1.000\n",
      "Validation Accuracy = 0.972\n",
      "Time Consumed = 12.0 secs\n",
      "\n",
      "EPOCH 32 ...\n",
      "Training Accuracy = 1.000\n",
      "Validation Accuracy = 0.968\n",
      "Time Consumed = 12.0 secs\n",
      "\n",
      "EPOCH 33 ...\n",
      "Training Accuracy = 1.000\n",
      "Validation Accuracy = 0.965\n",
      "Time Consumed = 12.0 secs\n",
      "\n",
      "EPOCH 34 ...\n",
      "Training Accuracy = 0.999\n",
      "Validation Accuracy = 0.968\n",
      "Time Consumed = 12.0 secs\n",
      "\n",
      "EPOCH 35 ...\n",
      "Training Accuracy = 0.998\n",
      "Validation Accuracy = 0.965\n",
      "Time Consumed = 12.0 secs\n",
      "\n",
      "EPOCH 36 ...\n",
      "Training Accuracy = 0.999\n",
      "Validation Accuracy = 0.961\n",
      "Time Consumed = 12.0 secs\n",
      "\n",
      "EPOCH 37 ...\n",
      "Training Accuracy = 1.000\n",
      "Validation Accuracy = 0.971\n",
      "Time Consumed = 12.0 secs\n",
      "\n",
      "EPOCH 38 ...\n",
      "Training Accuracy = 1.000\n",
      "Validation Accuracy = 0.972\n",
      "Time Consumed = 12.0 secs\n",
      "\n",
      "EPOCH 39 ...\n",
      "Training Accuracy = 1.000\n",
      "Validation Accuracy = 0.969\n",
      "Time Consumed = 12.0 secs\n",
      "\n",
      "EPOCH 40 ...\n",
      "Training Accuracy = 1.000\n",
      "Validation Accuracy = 0.975\n",
      "Time Consumed = 12.0 secs\n",
      "\n",
      "EPOCH 41 ...\n",
      "Training Accuracy = 1.000\n",
      "Validation Accuracy = 0.977\n",
      "Time Consumed = 12.0 secs\n",
      "\n",
      "EPOCH 42 ...\n",
      "Training Accuracy = 0.999\n",
      "Validation Accuracy = 0.971\n",
      "Time Consumed = 12.0 secs\n",
      "\n",
      "EPOCH 43 ...\n",
      "Training Accuracy = 1.000\n",
      "Validation Accuracy = 0.970\n",
      "Time Consumed = 12.0 secs\n",
      "\n",
      "EPOCH 44 ...\n",
      "Training Accuracy = 1.000\n",
      "Validation Accuracy = 0.975\n",
      "Time Consumed = 12.0 secs\n",
      "\n",
      "EPOCH 45 ...\n",
      "Training Accuracy = 1.000\n",
      "Validation Accuracy = 0.976\n",
      "Time Consumed = 12.0 secs\n",
      "\n",
      "EPOCH 46 ...\n",
      "Training Accuracy = 0.999\n",
      "Validation Accuracy = 0.954\n",
      "Time Consumed = 12.0 secs\n",
      "\n",
      "EPOCH 47 ...\n",
      "Training Accuracy = 1.000\n",
      "Validation Accuracy = 0.977\n",
      "Time Consumed = 12.0 secs\n",
      "\n",
      "EPOCH 48 ...\n",
      "Training Accuracy = 0.999\n",
      "Validation Accuracy = 0.959\n",
      "Time Consumed = 12.0 secs\n",
      "\n",
      "EPOCH 49 ...\n",
      "Training Accuracy = 0.998\n",
      "Validation Accuracy = 0.956\n",
      "Time Consumed = 12.0 secs\n",
      "\n",
      "EPOCH 50 ...\n",
      "Training Accuracy = 1.000\n",
      "Validation Accuracy = 0.972\n",
      "Time Consumed = 12.0 secs\n",
      "\n",
      "EPOCH 51 ...\n",
      "Training Accuracy = 1.000\n",
      "Validation Accuracy = 0.972\n",
      "Time Consumed = 12.0 secs\n",
      "\n",
      "EPOCH 52 ...\n",
      "Training Accuracy = 1.000\n",
      "Validation Accuracy = 0.976\n",
      "Time Consumed = 12.0 secs\n",
      "\n",
      "EPOCH 53 ...\n",
      "Training Accuracy = 1.000\n",
      "Validation Accuracy = 0.971\n",
      "Time Consumed = 12.0 secs\n",
      "\n",
      "EPOCH 54 ...\n",
      "Training Accuracy = 1.000\n",
      "Validation Accuracy = 0.969\n",
      "Time Consumed = 12.0 secs\n",
      "\n",
      "EPOCH 55 ...\n",
      "Training Accuracy = 0.999\n",
      "Validation Accuracy = 0.964\n",
      "Time Consumed = 12.0 secs\n",
      "\n",
      "EPOCH 56 ...\n",
      "Training Accuracy = 1.000\n",
      "Validation Accuracy = 0.977\n",
      "Time Consumed = 12.0 secs\n",
      "\n",
      "EPOCH 57 ...\n",
      "Training Accuracy = 1.000\n",
      "Validation Accuracy = 0.976\n",
      "Time Consumed = 12.0 secs\n",
      "\n",
      "EPOCH 58 ...\n",
      "Training Accuracy = 1.000\n",
      "Validation Accuracy = 0.978\n",
      "Time Consumed = 12.0 secs\n",
      "\n",
      "EPOCH 59 ...\n",
      "Training Accuracy = 1.000\n",
      "Validation Accuracy = 0.977\n",
      "Time Consumed = 12.0 secs\n",
      "\n",
      "EPOCH 60 ...\n",
      "Training Accuracy = 1.000\n",
      "Validation Accuracy = 0.967\n",
      "Time Consumed = 12.0 secs\n",
      "\n",
      "Model saved\n",
      "Total Time Consumed = 724.3 secs\n"
     ]
    }
   ],
   "source": [
    "# Train the Model\n",
    "with tf.Session() as sess:\n",
    "    sess.run(tf.global_variables_initializer())\n",
    "    num_examples = len(X_train)\n",
    "    start_time =  datetime.now()\n",
    "\n",
    "    print(\"Training...\")\n",
    "    print()\n",
    "    for i in range(EPOCH):\n",
    "        start_time_epoch =  datetime.now()\n",
    "        X_train, y_train = shuffle(X_train, y_train)\n",
    "        for offset in range(0, num_examples, BATCH_SIZE):\n",
    "            end = offset + BATCH_SIZE\n",
    "            batch_x, batch_y = X_train[offset:end], y_train[offset:end]\n",
    "            sess.run(training_operation, feed_dict={x: batch_x, y: batch_y, keep_prob: 0.5})\n",
    "            \n",
    "        training_accuracy = evaluate(X_train, y_train)\n",
    "        validation_accuracy = evaluate(X_valid, y_valid)\n",
    "        delta_time = datetime.now() - start_time_epoch\n",
    "        print(\"EPOCH {} ...\".format(i+1))\n",
    "        print('Training Accuracy = {:.3f}'.format(training_accuracy))\n",
    "        print(\"Validation Accuracy = {:.3f}\".format(validation_accuracy))\n",
    "        print(\"Time Consumed = {:.1f} secs\".format(delta_time.total_seconds()))\n",
    "        print()\n",
    "        \n",
    "    saver.save(sess, './lenet')\n",
    "    print(\"Model saved\")\n",
    "    \n",
    "    total_time = datetime.now() - start_time\n",
    "    print(\"Total Time Consumed = {:.1f} secs\".format(total_time.total_seconds()))"
   ]
  },
  {
   "cell_type": "code",
   "execution_count": 12,
   "metadata": {},
   "outputs": [
    {
     "name": "stdout",
     "output_type": "stream",
     "text": [
      "Test Accuracy = 0.972\n"
     ]
    }
   ],
   "source": [
    "# Evaluate the performance of the model on the test set\n",
    "with tf.Session() as sess:\n",
    "    saver.restore(sess, tf.train.latest_checkpoint('.'))\n",
    "    test_accuracy = evaluate(X_test, y_test)\n",
    "    print(\"Test Accuracy = {:.3f}\".format(test_accuracy))"
   ]
  },
  {
   "cell_type": "markdown",
   "metadata": {},
   "source": [
    "---\n",
    "\n",
    "## Step 3: Test a Model on New Images\n",
    "\n",
    "To give yourself more insight into how your model is working, download at least five pictures of German traffic signs from the web and use your model to predict the traffic sign type.\n",
    "\n",
    "You may find `signnames.csv` useful as it contains mappings from the class id (integer) to the actual sign name."
   ]
  },
  {
   "cell_type": "markdown",
   "metadata": {},
   "source": [
    "### Load and Output the Images"
   ]
  },
  {
   "cell_type": "code",
   "execution_count": 13,
   "metadata": {},
   "outputs": [
    {
     "data": {
      "image/png": "[encoded data removed]",
      "text/plain": [
       "<matplotlib.figure.Figure at 0x7feb2bf039e8>"
      ]
     },
     "metadata": {},
     "output_type": "display_data"
    },
    {
     "data": {
      "image/png": "[encoded data removed]",
      "text/plain": [
       "<matplotlib.figure.Figure at 0x7feb285d75c0>"
      ]
     },
     "metadata": {},
     "output_type": "display_data"
    },
    {
     "data": {
      "image/png": "[encoded data removed]",
      "text/plain": [
       "<matplotlib.figure.Figure at 0x7feb92d46a58>"
      ]
     },
     "metadata": {},
     "output_type": "display_data"
    },
    {
     "data": {
      "image/png": "[encoded data removed]",
      "text/plain": [
       "<matplotlib.figure.Figure at 0x7feb284ca128>"
      ]
     },
     "metadata": {},
     "output_type": "display_data"
    },
    {
     "data": {
      "image/png": "[encoded data removed]",
      "text/plain": [
       "<matplotlib.figure.Figure at 0x7feb284182b0>"
      ]
     },
     "metadata": {},
     "output_type": "display_data"
    }
   ],
   "source": [
    "### Load the images and plot them here.\n",
    "### Feel free to use as many code cells as needed.\n",
    "images = []\n",
    "\n",
    "for i in range(0, 5):\n",
    "    image_name='./new-images/image'+str(i)+'.jpg'\n",
    "    image = plt.imread(image_name)\n",
    "    images.append(image)\n",
    "    plt.figure(figsize=(1, 1))\n",
    "    plt.axis('off')\n",
    "    plt.imshow(image)\n",
    "    plt.show()"
   ]
  },
  {
   "cell_type": "markdown",
   "metadata": {},
   "source": [
    "### Predict the Sign Type for Each Image"
   ]
  },
  {
   "cell_type": "code",
   "execution_count": 14,
   "metadata": {},
   "outputs": [
    {
     "name": "stdout",
     "output_type": "stream",
     "text": [
      "(32, 32, 1)\n"
     ]
    },
    {
     "data": {
      "image/png": "[encoded data removed]",
      "text/plain": [
       "<matplotlib.figure.Figure at 0x7feb283a29e8>"
      ]
     },
     "metadata": {},
     "output_type": "display_data"
    },
    {
     "data": {
      "image/png": "[encoded data removed]",
      "text/plain": [
       "<matplotlib.figure.Figure at 0x7feb283ce7b8>"
      ]
     },
     "metadata": {},
     "output_type": "display_data"
    },
    {
     "data": {
      "image/png": "[encoded data removed]",
      "text/plain": [
       "<matplotlib.figure.Figure at 0x7feb28583b70>"
      ]
     },
     "metadata": {},
     "output_type": "display_data"
    },
    {
     "data": {
      "image/png": "[encoded data removed]",
      "text/plain": [
       "<matplotlib.figure.Figure at 0x7feb282dec50>"
      ]
     },
     "metadata": {},
     "output_type": "display_data"
    },
    {
     "data": {
      "image/png": "[encoded data removed]",
      "text/plain": [
       "<matplotlib.figure.Figure at 0x7feb2844b6d8>"
      ]
     },
     "metadata": {},
     "output_type": "display_data"
    },
    {
     "data": {
      "image/png": "[encoded data removed]",
      "text/plain": [
       "<matplotlib.figure.Figure at 0x7feb28137b38>"
      ]
     },
     "metadata": {},
     "output_type": "display_data"
    }
   ],
   "source": [
    "### Run the predictions here and use the model to output the prediction for each image.\n",
    "### Make sure to pre-process the images with the same pre-processing pipeline used earlier.\n",
    "### Feel free to use as many code cells as needed.\n",
    "images = np.asarray(images)\n",
    "images_gry = np.sum(images/3, axis=3, keepdims=True)\n",
    "images_normalized = (images_gry - 128)/128 \n",
    "   \n",
    "\n",
    "print(images_normalized[0].shape)\n",
    "plt.figure(figsize=(1, 1))\n",
    "plt.imshow((images_normalized[0]).squeeze(), cmap='gray')\n",
    "plt.show()\n",
    "\n",
    "image_labels=[14, 2, 13, 26, 33]\n",
    "\n",
    "softmax_logits = tf.nn.softmax(logits)\n",
    "\n",
    "with tf.Session() as sess:\n",
    "    saver.restore(sess, tf.train.latest_checkpoint('.'))\n",
    "    my_softmax_logits = sess.run(softmax_logits, feed_dict={x: images_normalized, keep_prob: 1.0})\n",
    "#     print('softmax_logits value: ')\n",
    "#     print(my_softmax_logits[0])\n",
    "\n",
    "\n",
    "for i in range(5):\n",
    "    plt.figure(figsize=(12, 3))\n",
    "    gs = gridspec.GridSpec(1, 2,width_ratios=[2,3])\n",
    "    plt.subplot(gs[0])\n",
    "    plt.imshow(images[i])\n",
    "    plt.text(1,2,str(image_labels[i]), color='k',backgroundcolor='c')\n",
    "    plt.axis('off')\n",
    "    plt.subplot(gs[1])\n",
    "    plt.bar(np.arange(43), my_softmax_logits[i])\n",
    "    plt.ylabel('Softmax probability')\n",
    "    plt.show();"
   ]
  },
  {
   "cell_type": "markdown",
   "metadata": {},
   "source": [
    "### Analyze Performance"
   ]
  },
  {
   "cell_type": "code",
   "execution_count": 15,
   "metadata": {},
   "outputs": [
    {
     "name": "stdout",
     "output_type": "stream",
     "text": [
      "(5, 32, 32, 1)\n",
      "Test Accuracy = 1.000\n"
     ]
    }
   ],
   "source": [
    "### Calculate the accuracy for these 5 new images. \n",
    "### For example, if the model predicted 1 out of 5 signs correctly, it's 20% accurate on these new images.\n",
    "# images = np.asarray(images)\n",
    "# images_gry = np.sum(images/3, axis=3, keepdims=True)\n",
    "# images_normalized = (images_gry - 128)/128 \n",
    "\n",
    "print(images_normalized.shape)\n",
    "\n",
    "image_labels=[14, 2, 13, 26, 33]\n",
    "\n",
    "with tf.Session() as sess:\n",
    "    sess.run(tf.global_variables_initializer())\n",
    "    saver.restore(sess, tf.train.latest_checkpoint('.'))\n",
    "    test_accuracy = evaluate(images_normalized, image_labels)\n",
    "    print(\"Test Accuracy = {:.3f}\".format(test_accuracy))"
   ]
  },
  {
   "cell_type": "markdown",
   "metadata": {},
   "source": [
    "### Output Top 5 Softmax Probabilities For Each Image Found on the Web"
   ]
  },
  {
   "cell_type": "markdown",
   "metadata": {},
   "source": [
    "For each of the new images, print out the model's softmax probabilities to show the **certainty** of the model's predictions (limit the output to the top 5 probabilities for each image). [`tf.nn.top_k`](https://www.tensorflow.org/versions/r0.12/api_docs/python/nn.html#top_k) could prove helpful here. \n",
    "\n",
    "The example below demonstrates how tf.nn.top_k can be used to find the top k predictions for each image.\n",
    "\n",
    "`tf.nn.top_k` will return the values and indices (class ids) of the top k predictions. So if k=3, for each sign, it'll return the 3 largest probabilities (out of a possible 43) and the correspoding class ids.\n",
    "\n",
    "Take this numpy array as an example. The values in the array represent predictions. The array contains softmax probabilities for five candidate images with six possible classes. `tk.nn.top_k` is used to choose the three classes with the highest probability:\n",
    "\n",
    "```\n",
    "# (5, 6) array\n",
    "a = np.array([[ 0.24879643,  0.07032244,  0.12641572,  0.34763842,  0.07893497,\n",
    "         0.12789202],\n",
    "       [ 0.28086119,  0.27569815,  0.08594638,  0.0178669 ,  0.18063401,\n",
    "         0.15899337],\n",
    "       [ 0.26076848,  0.23664738,  0.08020603,  0.07001922,  0.1134371 ,\n",
    "         0.23892179],\n",
    "       [ 0.11943333,  0.29198961,  0.02605103,  0.26234032,  0.1351348 ,\n",
    "         0.16505091],\n",
    "       [ 0.09561176,  0.34396535,  0.0643941 ,  0.16240774,  0.24206137,\n",
    "         0.09155967]])\n",
    "```\n",
    "\n",
    "Running it through `sess.run(tf.nn.top_k(tf.constant(a), k=3))` produces:\n",
    "\n",
    "```\n",
    "TopKV2(values=array([[ 0.34763842,  0.24879643,  0.12789202],\n",
    "       [ 0.28086119,  0.27569815,  0.18063401],\n",
    "       [ 0.26076848,  0.23892179,  0.23664738],\n",
    "       [ 0.29198961,  0.26234032,  0.16505091],\n",
    "       [ 0.34396535,  0.24206137,  0.16240774]]), indices=array([[3, 0, 5],\n",
    "       [0, 1, 4],\n",
    "       [0, 5, 1],\n",
    "       [1, 3, 5],\n",
    "       [1, 4, 3]], dtype=int32))\n",
    "```\n",
    "\n",
    "Looking just at the first row we get `[ 0.34763842,  0.24879643,  0.12789202]`, you can confirm these are the 3 largest probabilities in `a`. You'll also notice `[3, 0, 5]` are the corresponding indices."
   ]
  },
  {
   "cell_type": "code",
   "execution_count": 16,
   "metadata": {},
   "outputs": [
    {
     "name": "stdout",
     "output_type": "stream",
     "text": [
      "Top 3 softmax value: \n",
      "[[  1.00000000e+00   2.02027731e-24   1.44339692e-25   6.89954311e-27\n",
      "    3.54251471e-27]\n",
      " [  1.00000000e+00   2.32053221e-08   8.69083294e-09   6.39256825e-09\n",
      "    6.47225275e-13]\n",
      " [  1.00000000e+00   2.63040284e-10   3.64042720e-11   2.52469174e-11\n",
      "    2.52234275e-11]\n",
      " [  9.99999642e-01   3.37810718e-07   2.92531083e-10   5.00205918e-11\n",
      "    6.06575597e-12]\n",
      " [  1.00000000e+00   7.77569215e-15   6.55508369e-16   4.35371543e-18\n",
      "    4.83774307e-19]]\n",
      "Corresponding labels:\n",
      "[[14  1 17 18 34]\n",
      " [ 2  5  1  3  7]\n",
      " [13 35 39  9 38]\n",
      " [26 18 27 25 37]\n",
      " [33 39 35 14 15]]\n"
     ]
    }
   ],
   "source": [
    "### Print out the top five softmax probabilities for the predictions on the German traffic sign images found on the web. \n",
    "### Feel free to use as many code cells as needed.\n",
    "top_k = tf.nn.top_k(tf.nn.softmax(logits), k=5)\n",
    "\n",
    "with tf.Session() as sess:\n",
    "    saver.restore(sess, tf.train.latest_checkpoint('.'))\n",
    "    top_k_prob = sess.run(top_k, feed_dict={x: images_normalized, keep_prob: 1.0})\n",
    "    print('Top 3 softmax value: ')\n",
    "    print(top_k_prob.values)\n",
    "    print('Corresponding labels:')\n",
    "    print(top_k_prob.indices)"
   ]
  },
  {
   "cell_type": "markdown",
   "metadata": {},
   "source": [
    "### Project Writeup\n",
    "\n",
    "Once you have completed the code implementation, document your results in a project writeup using this [template](https://github.com/udacity/CarND-Traffic-Sign-Classifier-Project/blob/master/writeup_template.md) as a guide. The writeup can be in a markdown or pdf file. "
   ]
  },
  {
   "cell_type": "markdown",
   "metadata": {},
   "source": [
    "> **Note**: Once you have completed all of the code implementations and successfully answered each question above, you may finalize your work by exporting the iPython Notebook as an HTML document. You can do this by using the menu above and navigating to  \\n\",\n",
    "    \"**File -> Download as -> HTML (.html)**. Include the finished document along with this notebook as your submission."
   ]
  },
  {
   "cell_type": "markdown",
   "metadata": {},
   "source": [
    "---\n",
    "\n",
    "## Step 4 (Optional): Visualize the Neural Network's State with Test Images\n",
    "\n",
    " This Section is not required to complete but acts as an additional excersise for understaning the output of a neural network's weights. While neural networks can be a great learning device they are often referred to as a black box. We can understand what the weights of a neural network look like better by plotting their feature maps. After successfully training your neural network you can see what it's feature maps look like by plotting the output of the network's weight layers in response to a test stimuli image. From these plotted feature maps, it's possible to see what characteristics of an image the network finds interesting. For a sign, maybe the inner network feature maps react with high activation to the sign's boundary outline or to the contrast in the sign's painted symbol.\n",
    "\n",
    " Provided for you below is the function code that allows you to get the visualization output of any tensorflow weight layer you want. The inputs to the function should be a stimuli image, one used during training or a new one you provided, and then the tensorflow variable name that represents the layer's state during the training process, for instance if you wanted to see what the [LeNet lab's](https://classroom.udacity.com/nanodegrees/nd013/parts/fbf77062-5703-404e-b60c-95b78b2f3f9e/modules/6df7ae49-c61c-4bb2-a23e-6527e69209ec/lessons/601ae704-1035-4287-8b11-e2c2716217ad/concepts/d4aca031-508f-4e0b-b493-e7b706120f81) feature maps looked like for it's second convolutional layer you could enter conv2 as the tf_activation variable.\n",
    "\n",
    "For an example of what feature map outputs look like, check out NVIDIA's results in their paper [End-to-End Deep Learning for Self-Driving Cars](https://devblogs.nvidia.com/parallelforall/deep-learning-self-driving-cars/) in the section Visualization of internal CNN State. NVIDIA was able to show that their network's inner weights had high activations to road boundary lines by comparing feature maps from an image with a clear path to one without. Try experimenting with a similar test to show that your trained network's weights are looking for interesting features, whether it's looking at differences in feature maps from images with or without a sign, or even what feature maps look like in a trained network vs a completely untrained one on the same sign image.\n",
    "\n",
    "<figure>\n",
    " <img src=\"visualize_cnn.png\" width=\"380\" alt=\"Combined Image\" />\n",
    " <figcaption>\n",
    " <p></p> \n",
    " <p style=\"text-align: center;\"> Your output should look something like this (above)</p> \n",
    " </figcaption>\n",
    "</figure>\n",
    " <p></p> \n"
   ]
  },
  {
   "cell_type": "code",
   "execution_count": 17,
   "metadata": {},
   "outputs": [
    {
     "name": "stdout",
     "output_type": "stream",
     "text": [
      "image_input shape:  (1, 32, 32, 1)\n"
     ]
    },
    {
     "data": {
      "image/png": "[encoded data removed]",
      "text/plain": [
       "<matplotlib.figure.Figure at 0x7feb280ba2b0>"
      ]
     },
     "metadata": {},
     "output_type": "display_data"
    },
    {
     "data": {
      "image/png": "[encoded data removed]",
      "text/plain": [
       "<matplotlib.figure.Figure at 0x7feb282ee278>"
      ]
     },
     "metadata": {},
     "output_type": "display_data"
    }
   ],
   "source": [
    "### Visualize your network's feature maps here.\n",
    "### Feel free to use as many code cells as needed.\n",
    "\n",
    "# image_input: the test image being fed into the network to produce the feature maps\n",
    "# tf_activation: should be a tf variable name used during your training procedure that represents the calculated state of a specific weight layer\n",
    "# activation_min/max: can be used to view the activation contrast in more detail, by default matplot sets min and max to the actual min and max values of the output\n",
    "# plt_num: used to plot out multiple different weight feature map sets on the same block, just extend the plt number for each new feature map entry\n",
    "\n",
    "def outputFeatureMap(image_input, tf_activation, activation_min=-1, activation_max=-1 ,plt_num=1):\n",
    "    # Here make sure to preprocess your image_input in a way your network expects\n",
    "    # with size, normalization, ect if needed\n",
    "    # image_input =\n",
    "    # Note: x should be the same name as your network's tensorflow data placeholder variable\n",
    "    # If you get an error tf_activation is not defined it may be having trouble accessing the variable from inside a function\n",
    "    activation = tf_activation.eval(session=sess,feed_dict={x : image_input, keep_prob: 1.0})\n",
    "    featuremaps = activation.shape[3]\n",
    "    plt.figure(plt_num, figsize=(15,8))\n",
    "    for featuremap in range(featuremaps):\n",
    "        plt.subplot(6,8, featuremap+1) # sets the number of feature maps to show on each row and column\n",
    "        plt.title('FeatureMap ' + str(featuremap)) # displays the feature map number\n",
    "        plt.axis('off')\n",
    "        if activation_min != -1 & activation_max != -1:\n",
    "            plt.imshow(activation[0,:,:, featuremap], interpolation=\"nearest\", vmin =activation_min, vmax=activation_max, cmap=\"gray\")\n",
    "        elif activation_max != -1:\n",
    "            plt.imshow(activation[0,:,:, featuremap], interpolation=\"nearest\", vmax=activation_max, cmap=\"gray\")\n",
    "        elif activation_min !=-1:\n",
    "            plt.imshow(activation[0,:,:, featuremap], interpolation=\"nearest\", vmin=activation_min, cmap=\"gray\")\n",
    "        else:\n",
    "            plt.imshow(activation[0,:,:, featuremap], interpolation=\"nearest\", cmap=\"gray\")\n",
    "\n",
    "\n",
    "image_input = []\n",
    "image = images_normalized[0] \n",
    "image_input.append(image)\n",
    "image_input = np.asarray(image_input)\n",
    "\n",
    "print('image_input shape: ',image_input.shape)\n",
    "\n",
    "plt.figure(figsize=(1, 1))\n",
    "plt.axis('off')\n",
    "plt.imshow(image_input.squeeze(), cmap='gray')\n",
    "plt.show()\n",
    "\n",
    "    \n",
    "with tf.Session() as sess:\n",
    "    sess.run(tf.global_variables_initializer())\n",
    "    saver.restore(sess, tf.train.latest_checkpoint('.'))\n",
    "    outputFeatureMap(image_input,conv1)"
   ]
  }
 ],
 "metadata": {
  "anaconda-cloud": {},
  "kernelspec": {
   "display_name": "Python 3",
   "language": "python",
   "name": "python3"
  },
  "language_info": {
   "codemirror_mode": {
    "name": "ipython",
    "version": 3
   },
   "file_extension": ".py",
   "mimetype": "text/x-python",
   "name": "python",
   "nbconvert_exporter": "python",
   "pygments_lexer": "ipython3",
   "version": "3.5.2"
  }
 },
 "nbformat": 4,
 "nbformat_minor": 1
}
